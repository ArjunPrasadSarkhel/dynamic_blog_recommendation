{
 "cells": [
  {
   "cell_type": "code",
   "execution_count": 485,
   "metadata": {},
   "outputs": [],
   "source": [
    "import numpy as np\n",
    "import pandas as pa\n",
    "import seaborn as sn\n",
    "import matplotlib.pyplot as plt\n",
    "import warnings\n",
    "import gensim\n",
    "import os\n",
    "from gensim import models,corpora,similarities\n",
    "from gensim.models import LdaModel\n",
    "from nltk import FreqDist\n",
    "from scipy.stats import entropy\n",
    "from nltk.tokenize import TweetTokenizer,word_tokenize\n",
    "warnings.filterwarnings('ignore')\n",
    "sn.set_style(\"darkgrid\")"
   ]
  },
  {
   "cell_type": "code",
   "execution_count": 486,
   "metadata": {},
   "outputs": [],
   "source": [
    "### Read all the data cleaned\n",
    "filedir = os.path.abspath(r\"C:\\Users\\BABI\\Dynamic Blog Recommendation\\Cleaned Data\")\n",
    "medium_filename = \"cleaned_medium\"\n",
    "ana_filename = \"cleaned_analytics\"\n",
    "toward_filename = \"cleaned_towards_data_science\"\n",
    "\n",
    "toward_filepath = os.path.join(filedir,toward_filename)\n",
    "medium_filepath = os.path.join(filedir,medium_filename)\n",
    "ana_filepath = os.path.join(filedir,ana_filename)\n",
    "\n",
    "data_medium = pa.read_csv(medium_filepath)\n",
    "data_toward = pa.read_csv(toward_filepath)\n",
    "data_toward = data_toward.rename(columns={'Link':'Links'})\n",
    "data_ana = pa.read_csv(ana_filepath)\n",
    "data_ana = data_ana.rename(columns={'Titles':'Title'})\n",
    "data = pa.concat([data_medium,data_toward])\n",
    "data = pa.concat([data,data_ana])\n",
    "data.reset_index(drop=True,inplace=True)"
   ]
  },
  {
   "cell_type": "code",
   "execution_count": 487,
   "metadata": {},
   "outputs": [],
   "source": [
    "tokenizer = TweetTokenizer()\n",
    "data_words = data['Description'].apply(lambda x:tokenizer.tokenize(x))\n",
    "all_words = [word for item in data_words for word in item]\n",
    "data['tokenized'] = data_words"
   ]
  },
  {
   "cell_type": "code",
   "execution_count": 488,
   "metadata": {},
   "outputs": [],
   "source": [
    "# Frequency dist of all words\n",
    "fdist = FreqDist(all_words)"
   ]
  },
  {
   "cell_type": "code",
   "execution_count": 489,
   "metadata": {},
   "outputs": [
    {
     "name": "stdout",
     "output_type": "stream",
     "text": [
      "Last Top Words [('informationfor', 3), ('themlets', 3), ('ly', 3), ('wordclouds', 3), ('personthe', 3), ('learningis', 3), ('train_bow', 3), ('ravinder', 3), ('thi', 3), ('neededi', 3)]\n",
      "First Top Words [('data', 9381), ('one', 9303), ('use', 8835), ('two', 6639), ('model', 6445), ('learn', 6348), ('hundred', 4550), ('thousand', 4301), ('time', 3628), ('get', 3627)]\n"
     ]
    }
   ],
   "source": [
    "k=13000\n",
    "top_words = fdist.most_common(k)\n",
    "print('Last Top Words',top_words[-10:])\n",
    "print('First Top Words',top_words[0:10])"
   ]
  },
  {
   "cell_type": "code",
   "execution_count": 490,
   "metadata": {},
   "outputs": [],
   "source": [
    "top_k_words,_ = zip(*fdist.most_common(k))\n",
    "top_k_words = set(top_k_words)\n",
    "def store_topwords(words):\n",
    "    words= [word for word in words if word in top_k_words]\n",
    "    return words\n",
    "data['tokenized'] = data['tokenized'].apply(lambda x:store_topwords(x))"
   ]
  },
  {
   "cell_type": "code",
   "execution_count": 491,
   "metadata": {},
   "outputs": [
    {
     "name": "stdout",
     "output_type": "stream",
     "text": [
      "Data Shape (730, 4)\n"
     ]
    }
   ],
   "source": [
    "data = data[data['tokenized'].map(len) > 30]\n",
    "data = data[data['tokenized'].map(type)==list]\n",
    "data.reset_index(drop=True,inplace=True)\n",
    "data = data.drop(columns=['Unnamed: 0','Unnamed: 0.1'],axis=1)\n",
    "print('Data Shape',data.shape)"
   ]
  },
  {
   "cell_type": "code",
   "execution_count": 492,
   "metadata": {},
   "outputs": [],
   "source": [
    "## Training the lda model\n",
    "#mask = np.random.rand(len(data)) < 0.999\n",
    "#train_data  = data[mask]\n",
    "train_data = data\n",
    "test_data = train_data.iloc[230]#give a blog to predict\n",
    "train_data = train_data.drop(index=230,axis=0)\n",
    "#train_data.reset_index(drop=True,inplace=True)\n",
    "#test_data = data[~mask]\n",
    "#test_data.reset_index(drop=True,inplace=True)"
   ]
  },
  {
   "cell_type": "code",
   "execution_count": 493,
   "metadata": {},
   "outputs": [],
   "source": [
    "train_data.reset_index(drop=True,inplace=True)"
   ]
  },
  {
   "cell_type": "markdown",
   "metadata": {},
   "source": [
    "### Latent Direchlet Allocation"
   ]
  },
  {
   "cell_type": "code",
   "execution_count": 494,
   "metadata": {},
   "outputs": [],
   "source": [
    "def lda_model(train_data):\n",
    "    num_topics = 8\n",
    "    chunksize = 250\n",
    "    dictionary = corpora.Dictionary(train_data['tokenized'])\n",
    "    corpus = [dictionary.doc2bow(doc) for doc in train_data['tokenized']]\n",
    "    \n",
    "    #Define the lda model\n",
    "    lda = LdaModel(corpus=corpus,num_topics=num_topics,id2word=dictionary,alpha=0.8e-1,eta=0.02e-3,chunksize=chunksize,\n",
    "                  minimum_probability=0.0,passes=2)\n",
    "    return dictionary,corpus,lda"
   ]
  },
  {
   "cell_type": "code",
   "execution_count": 495,
   "metadata": {},
   "outputs": [],
   "source": [
    "dictionary,corpus,lda = lda_model(data)"
   ]
  },
  {
   "cell_type": "code",
   "execution_count": 496,
   "metadata": {},
   "outputs": [
    {
     "data": {
      "text/plain": [
       "[(0,\n",
       "  '0.027*\"one\" + 0.018*\"series\" + 0.018*\"time\" + 0.016*\"two\" + 0.011*\"use\" + 0.010*\"hundred\" + 0.010*\"value\" + 0.010*\"model\" + 0.009*\"thousand\" + 0.008*\"three\" + 0.008*\"x\" + 0.007*\"function\" + 0.007*\"data\" + 0.007*\"five\" + 0.006*\"plot\" + 0.006*\"find\" + 0.006*\"would\" + 0.005*\"get\" + 0.005*\"make\" + 0.005*\"follow\"'),\n",
       " (1,\n",
       "  '0.012*\"—\" + 0.010*\"one\" + 0.006*\"thousand\" + 0.006*\"two\" + 0.005*\"is\" + 0.005*\"use\" + 0.005*\"time\" + 0.005*\"not\" + 0.005*\"like\" + 0.004*\"hundred\" + 0.004*\"make\" + 0.004*\"work\" + 0.004*\"say\" + 0.004*\"may\" + 0.004*\"us\" + 0.004*\"also\" + 0.004*\"it\" + 0.004*\"people\" + 0.004*\"new\" + 0.004*\"take\"'),\n",
       " (2,\n",
       "  '0.016*\"use\" + 0.014*\"learn\" + 0.014*\"one\" + 0.011*\"data\" + 0.010*\"network\" + 0.008*\"cluster\" + 0.008*\"word\" + 0.008*\"neural\" + 0.008*\"two\" + 0.008*\"deep\" + 0.007*\"train\" + 0.007*\"image\" + 0.007*\"article\" + 0.007*\"model\" + 0.006*\"layer\" + 0.006*\"thousand\" + 0.005*\"text\" + 0.005*\"output\" + 0.005*\"hundred\" + 0.005*\"let\"'),\n",
       " (3,\n",
       "  '0.024*\"data\" + 0.020*\"use\" + 0.017*\"model\" + 0.014*\"learn\" + 0.013*\"one\" + 0.010*\"two\" + 0.008*\"article\" + 0.007*\"machine\" + 0.006*\"value\" + 0.006*\"feature\" + 0.006*\"us\" + 0.006*\"get\" + 0.005*\"set\" + 0.005*\"r\" + 0.005*\"let\" + 0.005*\"variables\" + 0.005*\"thousand\" + 0.005*\"python\" + 0.005*\"work\" + 0.005*\"also\"'),\n",
       " (4,\n",
       "  '0.039*\"hundred\" + 0.035*\"one\" + 0.022*\"two\" + 0.020*\"thousand\" + 0.016*\"three\" + 0.015*\"five\" + 0.013*\"model\" + 0.013*\"value\" + 0.012*\"four\" + 0.011*\"seven\" + 0.010*\"use\" + 0.010*\"twenty\" + 0.010*\"nine\" + 0.010*\"regression\" + 0.010*\"six\" + 0.008*\"eight\" + 0.008*\"million\" + 0.007*\"data\" + 0.007*\"c\" + 0.007*\"b\"'),\n",
       " (5,\n",
       "  '0.017*\"air\" + 0.012*\"pollution\" + 0.010*\"is\" + 0.010*\"—\" + 0.009*\"level\" + 0.008*\"two\" + 0.006*\"not\" + 0.006*\"one\" + 0.006*\"see\" + 0.006*\"new\" + 0.006*\"use\" + 0.006*\"would\" + 0.005*\"people\" + 0.005*\"say\" + 0.005*\"ai\" + 0.005*\"like\" + 0.005*\"work\" + 0.005*\"thousand\" + 0.005*\"cities\" + 0.005*\"it\"'),\n",
       " (6,\n",
       "  '0.015*\"data\" + 0.010*\"learn\" + 0.008*\"is\" + 0.008*\"not\" + 0.007*\"course\" + 0.007*\"get\" + 0.007*\"one\" + 0.007*\"science\" + 0.007*\"time\" + 0.007*\"would\" + 0.007*\"analytics\" + 0.006*\"work\" + 0.006*\"two\" + 0.006*\"like\" + 0.005*\"make\" + 0.005*\"people\" + 0.005*\"program\" + 0.005*\"thousand\" + 0.005*\"go\" + 0.005*\"start\"'),\n",
       " (7,\n",
       "  '0.010*\"use\" + 0.009*\"make\" + 0.009*\"learn\" + 0.008*\"machine\" + 0.008*\"ai\" + 0.007*\"one\" + 0.007*\"data\" + 0.006*\"two\" + 0.006*\"like\" + 0.006*\"time\" + 0.005*\"us\" + 0.005*\"intelligence\" + 0.004*\"thousand\" + 0.004*\"take\" + 0.004*\"would\" + 0.004*\"is\" + 0.004*\"know\" + 0.004*\"work\" + 0.004*\"human\" + 0.004*\"—\"')]"
      ]
     },
     "execution_count": 496,
     "metadata": {},
     "output_type": "execute_result"
    }
   ],
   "source": [
    "### Topic Visulalization\n",
    "lda.show_topics(num_topics=20,num_words=20)"
   ]
  },
  {
   "cell_type": "code",
   "execution_count": 497,
   "metadata": {},
   "outputs": [],
   "source": [
    "train_rand = np.random.randint(len(train_data))\n",
    "bow = dictionary.doc2bow(train_data['tokenized'].iloc[train_rand])"
   ]
  },
  {
   "cell_type": "code",
   "execution_count": 498,
   "metadata": {},
   "outputs": [
    {
     "data": {
      "image/png": "[encoded data removed]",
      "text/plain": [
       "<Figure size 864x432 with 1 Axes>"
      ]
     },
     "metadata": {},
     "output_type": "display_data"
    }
   ],
   "source": [
    "## Topic distribution of that particular document \n",
    "doc_distribution = np.array([tup[1] for tup in lda.get_document_topics(bow=bow)])\n",
    "fig, ax = plt.subplots(figsize=(12,6));\n",
    "# the histogram of the data\n",
    "patches = ax.bar(np.arange(len(doc_distribution)), doc_distribution)\n",
    "ax.set_xlabel('Topic ID', fontsize=15)\n",
    "ax.set_ylabel('Topic Contribution', fontsize=15)\n",
    "ax.set_title(\"Topic Distribution for Article \" + str(train_rand), fontsize=20)\n",
    "fig.tight_layout()\n",
    "plt.show()\n",
    "\n",
    "##Visualize the cluster of this particular document"
   ]
  },
  {
   "cell_type": "code",
   "execution_count": 499,
   "metadata": {},
   "outputs": [
    {
     "name": "stdout",
     "output_type": "stream",
     "text": [
      "2 [('use', 0.016039697), ('learn', 0.014074793), ('one', 0.013535415), ('data', 0.011082179), ('network', 0.009537665), ('cluster', 0.008422134), ('word', 0.008366629), ('neural', 0.0077540823), ('two', 0.0076604635), ('deep', 0.0075320187)] \n",
      "\n",
      "0 [('one', 0.027118627), ('series', 0.018332705), ('time', 0.01832275), ('two', 0.016110359), ('use', 0.011036449), ('hundred', 0.010486483), ('value', 0.010483826), ('model', 0.009701766), ('thousand', 0.008774083), ('three', 0.008240397)] \n",
      "\n",
      "3 [('data', 0.023608064), ('use', 0.020003052), ('model', 0.016998077), ('learn', 0.013921551), ('one', 0.012501142), ('two', 0.0103333965), ('article', 0.007515708), ('machine', 0.007217017), ('value', 0.006270634), ('feature', 0.0057294173)] \n",
      "\n",
      "4 [('hundred', 0.03919832), ('one', 0.03522993), ('two', 0.021772947), ('thousand', 0.019743728), ('three', 0.016368851), ('five', 0.015292486), ('model', 0.013443089), ('value', 0.012733011), ('four', 0.012468256), ('seven', 0.01108261)] \n",
      "\n",
      "5 [('air', 0.016617993), ('pollution', 0.012219151), ('is', 0.010312353), ('—', 0.010233066), ('level', 0.009335656), ('two', 0.008170493), ('not', 0.0064093824), ('one', 0.0061175833), ('see', 0.0058020996), ('new', 0.0057046246)] \n",
      "\n",
      "1 [('—', 0.011577122), ('one', 0.009558474), ('thousand', 0.0060653035), ('two', 0.005794375), ('is', 0.005038879), ('use', 0.0048318235), ('time', 0.0047985488), ('not', 0.00456809), ('like', 0.004542123), ('hundred', 0.00416833)] \n",
      "\n",
      "7 [('use', 0.009888233), ('make', 0.008594893), ('learn', 0.00857964), ('machine', 0.008079361), ('ai', 0.0079933945), ('one', 0.0072860452), ('data', 0.00673952), ('two', 0.0064988043), ('like', 0.0056515858), ('time', 0.00559044)] \n",
      "\n"
     ]
    }
   ],
   "source": [
    "for i in doc_distribution.argsort()[::-1][:7]:\n",
    "    print(i,lda.show_topic(topicid=i,topn=10),\"\\n\")"
   ]
  },
  {
   "cell_type": "code",
   "execution_count": 500,
   "metadata": {},
   "outputs": [],
   "source": [
    "### Simlilarity for unseen data"
   ]
  },
  {
   "cell_type": "code",
   "execution_count": 501,
   "metadata": {},
   "outputs": [],
   "source": [
    "### Select random from test data\n",
    "#test_data_index = np.random.randint(len(test_data))\n",
    "test_bow = dictionary.doc2bow(test_data['tokenized'])"
   ]
  },
  {
   "cell_type": "code",
   "execution_count": 502,
   "metadata": {},
   "outputs": [
    {
     "data": {
      "text/plain": [
       "'https://arcdigital.media/the-pantry-police-a236e9b148b4?source=extreme_main_feed---------242-74--------------------ae741f88_52e6_4632_b2d4_d4446ba00442--4'"
      ]
     },
     "execution_count": 502,
     "metadata": {},
     "output_type": "execute_result"
    }
   ],
   "source": [
    "test_data['Links']"
   ]
  },
  {
   "cell_type": "code",
   "execution_count": 503,
   "metadata": {},
   "outputs": [],
   "source": [
    "### Check the topic distribution\n",
    "test_topic_dist = np.array([tup[1]  for tup in lda.get_document_topics(bow=test_bow)]) "
   ]
  },
  {
   "cell_type": "code",
   "execution_count": 504,
   "metadata": {},
   "outputs": [
    {
     "data": {
      "image/png": "[encoded data removed]",
      "text/plain": [
       "<Figure size 864x432 with 1 Axes>"
      ]
     },
     "metadata": {},
     "output_type": "display_data"
    }
   ],
   "source": [
    "## Topic distribution of that particular document \n",
    "fig, ax = plt.subplots(figsize=(12,6));\n",
    "# the histogram of the data\n",
    "patches = ax.bar(np.arange(len(test_topic_dist)), test_topic_dist)\n",
    "ax.set_xlabel('Topic ID', fontsize=15)\n",
    "ax.set_ylabel('Topic Contribution', fontsize=15)\n",
    "ax.set_title(\"Topic Distribution for Article \" + str(test_data_index), fontsize=20)\n",
    "fig.tight_layout()\n",
    "plt.show()\n",
    "##Visualize the cluster of this particular document"
   ]
  },
  {
   "cell_type": "code",
   "execution_count": 505,
   "metadata": {},
   "outputs": [],
   "source": [
    "##### Find similer topics usning JSD"
   ]
  },
  {
   "cell_type": "code",
   "execution_count": 506,
   "metadata": {},
   "outputs": [
    {
     "data": {
      "text/plain": [
       "(730, 8)"
      ]
     },
     "execution_count": 506,
     "metadata": {},
     "output_type": "execute_result"
    }
   ],
   "source": [
    "doc_topic_dist = np.array([[tup[1] for tup in lst] for lst in lda[corpus]])\n",
    "doc_topic_dist.shape"
   ]
  },
  {
   "cell_type": "code",
   "execution_count": 507,
   "metadata": {},
   "outputs": [],
   "source": [
    "def jensen_shannon(query, matrix):\n",
    "    \"\"\"\n",
    "    This function implements a Jensen-Shannon similarity\n",
    "    between the input query (an LDA topic distribution for a document)\n",
    "    and the entire corpus of topic distributions.\n",
    "    It returns an array of length M where M is the number of documents in the corpus\n",
    "    \"\"\"\n",
    "    # lets keep with the p,q notation above\n",
    "    p = query[None,:].T # take transpose\n",
    "    q = matrix.T # transpose matrix\n",
    "    m = 0.5*(p + q)\n",
    "    return np.sqrt(0.5*(entropy(p,m) + entropy(q,m)))"
   ]
  },
  {
   "cell_type": "code",
   "execution_count": 508,
   "metadata": {},
   "outputs": [],
   "source": [
    "def get_most_similar_documents(query,matrix,k=10):\n",
    "    \"\"\"\n",
    "    This function implements the Jensen-Shannon distance above\n",
    "    and retruns the top k indices of the smallest jensen shannon distances\n",
    "    \"\"\"\n",
    "    sims = jensen_shannon(query,matrix) # list of jensen shannon distances\n",
    "    return sims.argsort()[:k] # the top k positional index of the smallest Jensen Shannon distances"
   ]
  },
  {
   "cell_type": "code",
   "execution_count": 509,
   "metadata": {},
   "outputs": [],
   "source": [
    "most_sim_ids = get_most_similar_documents(test_topic_dist,doc_topic_dist)"
   ]
  },
  {
   "cell_type": "code",
   "execution_count": 510,
   "metadata": {},
   "outputs": [],
   "source": [
    "most_sim_documents = train_data[train_data.index.isin(most_sim_ids)]"
   ]
  },
  {
   "cell_type": "code",
   "execution_count": 528,
   "metadata": {},
   "outputs": [],
   "source": [
    "#most_sim_documents['Title']"
   ]
  },
  {
   "cell_type": "code",
   "execution_count": 527,
   "metadata": {},
   "outputs": [],
   "source": [
    "#most_sim_documents['Links']"
   ]
  },
  {
   "cell_type": "code",
   "execution_count": 526,
   "metadata": {},
   "outputs": [
    {
     "name": "stdout",
     "output_type": "stream",
     "text": [
      "Title Data Science, Disney & Tindering\"\n",
      "\"Link--https://towardsdatascience.com/developing-successful-data-science-career-30b20a8892f6?source=extreme_main_feed---------35-58--------------------ae741f88_52e6_4632_b2d4_d4446ba00442--7\n",
      "******************************\n",
      "Title I’m a Nurse at the Epicenter of this Pandemic\"\n",
      "\"Link--https://medium.com/@adara.abrahamsen/im-a-nurse-at-the-epicenter-of-this-pandemic-3fe3820d6e66?source=extreme_main_feed---------78-73--------------------ae741f88_52e6_4632_b2d4_d4446ba00442--\n",
      "******************************\n",
      "Title How Will We Prepare for the Future?\"\n",
      "\"Link--https://medium.com/the-ascent/how-will-we-prepare-for-the-future-7470ff14951e?source=extreme_main_feed---------97-49----------bd856b86de98----------ae741f88_52e6_4632_b2d4_d4446ba00442--9\n",
      "******************************\n",
      "Title No One Should Want a Return to Normalcy\"\n",
      "\"Link--https://gen.medium.com/no-one-should-want-a-return-to-normalcy-a1091120d7d8?source=extreme_main_feed---------124-73--------------------ae741f88_52e6_4632_b2d4_d4446ba00442--6\n",
      "******************************\n",
      "Title 6 Bizarre Life-Hacks to Reboot Your Mind\"\n",
      "\"Link--https://medium.com/mind-cafe/6-bizarre-life-hacks-to-reboot-your-mind-a331d5f186ca?source=extreme_main_feed---------146-73--------------------ae741f88_52e6_4632_b2d4_d4446ba00442--8\n",
      "******************************\n",
      "Title 4 Exercises That Can Help You Simplify Your Life\"\n",
      "\"Link--https://medium.com/personal-growth/simplify-your-life-with-these-4-exercises-5c57808f7b84?source=extreme_main_feed---------162-73--------------------ae741f88_52e6_4632_b2d4_d4446ba00442--4\n",
      "******************************\n",
      "Title Is it time to end single-family zoning?\"\n",
      "\"Link--https://medium.com/sidewalk-talk/is-it-time-to-end-single-family-zoning-56233d69a25a?source=extreme_main_feed---------183-49----------bd856b86de98----------ae741f88_52e6_4632_b2d4_d4446ba00442--5\n",
      "******************************\n",
      "Title The Golden Rules Of Love That Everyone Knows, But Only A Few Follow\"\n",
      "\"Link--https://medium.com/@mattlillywhite/the-golden-rules-of-love-that-everyone-knows-but-only-a-few-follow-9d69902d9d42?source=extreme_main_feed---------243-73--------------------ae741f88_52e6_4632_b2d4_d4446ba00442--5\n",
      "******************************\n",
      "Title Svelte vs. React: A Comparison\"\n",
      "\"Link--https://medium.com/swlh/svelte-vs-react-a-comparison-4ddf3448e4a4?source=extreme_main_feed---------250-73--------------------ae741f88_52e6_4632_b2d4_d4446ba00442--2\n",
      "******************************\n",
      "Title VC in the Time of Corona\"\n",
      "\"Link--https://medium.com/@yuvalariav/vc-in-the-time-of-corona-8157b029ad07?source=extreme_main_feed---------272-73--------------------ae741f88_52e6_4632_b2d4_d4446ba00442--4\n",
      "******************************\n"
     ]
    }
   ],
   "source": [
    "for i in range(0,10):\n",
    "    print('Title {}\"\\n\"Link--{}'.format(most_sim_documents['Title'].iloc[i],\n",
    "                                      most_sim_documents['Links'].iloc[i]))\n",
    "    print('******************************')"
   ]
  },
  {
   "cell_type": "code",
   "execution_count": 1,
   "metadata": {},
   "outputs": [],
   "source": [
    "#most_sim_documents"
   ]
  },
  {
   "cell_type": "code",
   "execution_count": null,
   "metadata": {},
   "outputs": [],
   "source": []
  },
  {
   "cell_type": "code",
   "execution_count": null,
   "metadata": {},
   "outputs": [],
   "source": []
  }
 ],
 "metadata": {
  "kernelspec": {
   "display_name": "Python 3",
   "language": "python",
   "name": "python3"
  },
  "language_info": {
   "codemirror_mode": {
    "name": "ipython",
    "version": 3
   },
   "file_extension": ".py",
   "mimetype": "text/x-python",
   "name": "python",
   "nbconvert_exporter": "python",
   "pygments_lexer": "ipython3",
   "version": "3.7.1"
  }
 },
 "nbformat": 4,
 "nbformat_minor": 2
}
